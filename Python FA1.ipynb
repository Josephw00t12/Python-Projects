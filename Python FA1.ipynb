{
 "cells": [
  {
   "cell_type": "code",
   "execution_count": 19,
   "id": "d2a89211-8f92-44de-8afe-69d65abe5e2b",
   "metadata": {},
   "outputs": [
    {
     "name": "stdin",
     "output_type": "stream",
     "text": [
      "How many Kilometers:  50\n"
     ]
    },
    {
     "name": "stdout",
     "output_type": "stream",
     "text": [
      "There are 31.06 mile/s in 50 Kilometer/s\n",
      "Average Pace (per Mile): 1 minutes 22 seconds\n",
      "Average Speed: 43.75mph\n",
      "\n"
     ]
    },
    {
     "name": "stdin",
     "output_type": "stream",
     "text": [
      "How many Kilometers:  60\n",
      "How many Minutes:  200\n",
      "How many seconds: 50\n"
     ]
    },
    {
     "name": "stdout",
     "output_type": "stream",
     "text": [
      "There are 37.27 mile/s in 60 Kilometer/s\n",
      "Average Pace (per Mile): 5 minutes 23 seconds\n",
      "Average Speed: 11.13mph\n"
     ]
    }
   ],
   "source": [
    "import math\n",
    "def question1():\n",
    "    # How many seconds are there in 42 minutes and 42 seconds?\n",
    "    tSec = (42 * 60) + 42\n",
    "    print(\"There are\" + str(tSec))\n",
    "    \n",
    "def question2():\n",
    "    # How many miles are there in 10 kilometers?\n",
    "    # Hint: There are 1.61 Kilometers in a Mile\n",
    "    kilo = 10\n",
    "    miles = round(kilo / 1.61, 2)\n",
    "    print(\"There are \" + str(miles) + \" in 10 Kilometers\")    \n",
    "    \n",
    "def question3ver1():\n",
    "    print(\"Changes in Kilometers\")\n",
    "    # If you run a 10 kilometer race in 42 minutes and 42 seconds\n",
    "    # What is your average pace (time per mile in minutes and seconds)?\n",
    "    # What is your average speed in miles per hour?\n",
    "    kilo = int(input(\"How many Kilometers: \"))\n",
    "    tSec = (42 * 60) + 42 \n",
    "    miles = round(kilo / 1.61, 2)\n",
    "    print(\"There are \" + str(miles) + \" mile/s in \" + str(kilo) + \" Kilometer/s\")\n",
    "    mMinutes = math.floor(((tSec / 60) / miles))\n",
    "    mMinutesDeci = ((tSec / 60) / miles) % 1\n",
    "    mSeconds = math.floor(mMinutesDeci * 60)\n",
    "    hours = round(tSec / 3600, 2)\n",
    "    speed = round(miles / hours, 2)\n",
    "    print(\"Average Pace (per Mile): \" + str(mMinutes) + \" minutes \" + str(mSeconds) + \" seconds\")\n",
    "    print(\"Average Speed: \" + str(speed) + \"mph\")\n",
    "    \n",
    "def question3ver2():\n",
    "    # If you run a 10 kilometer race in 42 minutes and 42 seconds\n",
    "    # What is your average pace (time per mile in minutes and seconds)?\n",
    "    # What is your average speed in miles per hour?\n",
    "    print(\"Changes in Kilomters and Time\")\n",
    "    kilo = int(input(\"How many Kilometers: \"))\n",
    "    minutes = int(input(\"How many Minutes: \"))\n",
    "    seconds = int(input(\"How many seconds:\"))\n",
    "    tSec = (minutes * 60) + seconds \n",
    "    miles = round(kilo / 1.61, 2)\n",
    "    print(\"There are \" + str(miles) + \" mile/s in \" + str(kilo) + \" Kilometer/s\")\n",
    "    mMinutes = math.floor(((tSec / 60) / miles))\n",
    "    mMinutesDeci = ((tSec / 60) / miles) % 1\n",
    "    mSeconds = math.floor(mMinutesDeci * 60)\n",
    "    hours = round(tSec / 3600, 2)\n",
    "    speed = round(miles / hours, 2)\n",
    "    print(\"Average Pace (per Mile): \" + str(mMinutes) + \" minutes \" + str(mSeconds) + \" seconds\")\n",
    "    print(\"Average Speed: \" + str(speed) + \"mph\")\n",
    "    \n",
    "question3ver1()\n",
    "print()\n",
    "question3ver2() "
   ]
  },
  {
   "cell_type": "code",
   "execution_count": null,
   "id": "8260e1d0-1d1a-493d-b699-11c1e35ef38b",
   "metadata": {},
   "outputs": [],
   "source": []
  }
 ],
 "metadata": {
  "kernelspec": {
   "display_name": "Python 3 (ipykernel)",
   "language": "python",
   "name": "python3"
  },
  "language_info": {
   "codemirror_mode": {
    "name": "ipython",
    "version": 3
   },
   "file_extension": ".py",
   "mimetype": "text/x-python",
   "name": "python",
   "nbconvert_exporter": "python",
   "pygments_lexer": "ipython3",
   "version": "3.11.1"
  }
 },
 "nbformat": 4,
 "nbformat_minor": 5
}
