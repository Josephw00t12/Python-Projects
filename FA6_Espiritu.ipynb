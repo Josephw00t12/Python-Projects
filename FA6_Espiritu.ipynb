{
 "cells": [
  {
   "cell_type": "code",
   "execution_count": 6,
   "id": "69c55760",
   "metadata": {
    "scrolled": true
   },
   "outputs": [
    {
     "name": "stdout",
     "output_type": "stream",
     "text": [
      "Enter the base: 10\n",
      "Enter the exponent: 1000\n",
      "Iterative Answer: inf\n",
      "Time Taken: 0.0009963512420654297 seconds\n"
     ]
    }
   ],
   "source": [
    "import time\n",
    "#Question 1\n",
    "    #Iterative\n",
    "def iterative_exponent(base, exponent):\n",
    "    result = 1\n",
    "    for i in range(exponent):\n",
    "        result *= base\n",
    "    return result\n",
    "\n",
    "while True:\n",
    "    try:\n",
    "        b = float(input(\"Enter the base: \"))\n",
    "        exp = int(input(\"Enter the exponent: \"))\n",
    "        break\n",
    "    except ValueError:\n",
    "        print(\"Please enter an integer value.\")\n",
    "        \n",
    "startI = time.time()\n",
    "iter_ans = recursive_exponent(b,exp)\n",
    "endI = time.time()\n",
    "print(\"Iterative Answer: \" + str(iter_ans))\n",
    "print(\"Time Taken: \" + str(endI-startI) + \" seconds\")"
   ]
  },
  {
   "cell_type": "code",
   "execution_count": 5,
   "id": "bb901be5",
   "metadata": {},
   "outputs": [
    {
     "name": "stdout",
     "output_type": "stream",
     "text": [
      "Enter the base: 10\n",
      "Enter the exponent: 1000\n",
      "Iterative Answer: inf\n",
      "Time Taken: 0.0009982585906982422 seconds\n"
     ]
    }
   ],
   "source": [
    "import time\n",
    "#Question 1\n",
    "    #Recursion\n",
    "def recursive_exponent(base,exponent):\n",
    "    if exponent == 0:\n",
    "        return 1\n",
    "    else:\n",
    "        return (base*recursive_exponent(base, exponent-1))\n",
    "    \n",
    "while True:\n",
    "    try:\n",
    "        b = float(input(\"Enter the base: \"))\n",
    "        exp = int(input(\"Enter the exponent: \"))\n",
    "        break\n",
    "    except ValueError:\n",
    "        print(\"Please enter an integer value.\")\n",
    "        \n",
    "startR = time.time()\n",
    "iter_ans = recursive_exponent(b,exp)\n",
    "endR = time.time()\n",
    "print(\"Iterative Answer: \" + str(iter_ans))\n",
    "print(\"Time Taken: \" + str(endR-startR) + \" seconds\")"
   ]
  },
  {
   "cell_type": "code",
   "execution_count": 53,
   "id": "3241a952",
   "metadata": {},
   "outputs": [
    {
     "name": "stdout",
     "output_type": "stream",
     "text": [
      "Enter the exponent: 1500\n",
      "Iterative Answer: 70149324220868077495255175920561715987048031760661657648151596049581927701126644407314161773169938523306300813590875034798589097882939919508342077836009401695779912970658194528973605423166925893073364368680277258902710916529892685050767238778629921289330105103502884671018498346722260711592219419771161348627908420435315694865253521466009506550634384267349407126745566594083986454105326667337019904000350106711058117760868365076773431047367426417098751\n",
      "Time Taken: 0.0010018348693847656 seconds\n"
     ]
    }
   ],
   "source": [
    "import time\n",
    "#Question 2\n",
    "    #Iterative\n",
    "def iterativeSum(exponent):\n",
    "    sum = 0\n",
    "    for i in range(exponent+1):\n",
    "        sum += 2**i\n",
    "    return sum\n",
    "    \n",
    "while True:\n",
    "    try:\n",
    "        exp = int(input(\"Enter the exponent: \"))\n",
    "        break\n",
    "    except ValueError:\n",
    "        print(\"Please enter an integer value.\")\n",
    "\n",
    "startI2 = time.time()\n",
    "iter_ans = iterative2(exp)\n",
    "endI2 = time.time()\n",
    "print(\"Iterative Answer: \" + str(iter_ans))\n",
    "print(\"Time Taken: \" + str(endI2-startI2) + \" seconds\")"
   ]
  },
  {
   "cell_type": "code",
   "execution_count": 54,
   "id": "31299190",
   "metadata": {},
   "outputs": [
    {
     "name": "stdout",
     "output_type": "stream",
     "text": [
      "Enter the exponent: 1500\n",
      "Recursive Answer: 70149324220868077495255175920561715987048031760661657648151596049581927701126644407314161773169938523306300813590875034798589097882939919508342077836009401695779912970658194528973605423166925893073364368680277258902710916529892685050767238778629921289330105103502884671018498346722260711592219419771161348627908420435315694865253521466009506550634384267349407126745566594083986454105326667337019904000350106711058117760868365076773431047367426417098751\n",
      "Time Taken: 0.002537965774536133 seconds\n"
     ]
    }
   ],
   "source": [
    "import time\n",
    "#Question 2\n",
    "    #Recursive\n",
    "def recursiveSum(exponent):\n",
    "    if exponent == 0:\n",
    "        return 1\n",
    "    else:\n",
    "        return 2**exponent + recursive2(exponent-1)\n",
    "\n",
    "while True:\n",
    "    try:\n",
    "        exp = int(input(\"Enter the exponent: \"))\n",
    "        break\n",
    "    except ValueError:\n",
    "        print(\"Please enter an integer value.\")\n",
    "        \n",
    "startR2 = time.time()\n",
    "rec_ans = recursive2(exp)\n",
    "endR2 = time.time()\n",
    "print(\"Recursive Answer: \" + str(rec_ans))\n",
    "print(\"Time Taken: \" + str(endR2-startR2) + \" seconds\")"
   ]
  },
  {
   "cell_type": "code",
   "execution_count": null,
   "id": "096544da",
   "metadata": {},
   "outputs": [],
   "source": []
  }
 ],
 "metadata": {
  "kernelspec": {
   "display_name": "Python 3 (ipykernel)",
   "language": "python",
   "name": "python3"
  },
  "language_info": {
   "codemirror_mode": {
    "name": "ipython",
    "version": 3
   },
   "file_extension": ".py",
   "mimetype": "text/x-python",
   "name": "python",
   "nbconvert_exporter": "python",
   "pygments_lexer": "ipython3",
   "version": "3.11.2"
  }
 },
 "nbformat": 4,
 "nbformat_minor": 5
}
